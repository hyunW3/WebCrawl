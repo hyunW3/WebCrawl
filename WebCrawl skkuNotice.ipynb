{
 "cells": [
  {
   "cell_type": "code",
   "execution_count": 2,
   "metadata": {},
   "outputs": [],
   "source": [
    "#https://creativeworks.tistory.com/entry/PYTHON-3-Tutorials-25-%EC%9B%B9-%ED%81%AC%EB%A1%A4%EB%9F%AClike-Google-%EB%A7%8C%EB%93%A4%EA%B8%B0-2-How-to-build-a-web-crawler\n",
    "#http://throughkim.kr/2016/04/01/beautifulsoup/\n",
    "#https://www.crummy.com/software/BeautifulSoup/bs4/doc/\n",
    "\n",
    "\n",
    "import requests\n",
    "from bs4 import BeautifulSoup\n",
    "#한글 코딩\n",
    "#-*- coding: utf-8 -*-\n",
    "def CrawlWeb(url,element):\n",
    "    source_code=requests.get(url)\n",
    "    source_code.encoding = 'utf-8'\n",
    "    plain_text = source_code.text\n",
    "    soup = BeautifulSoup(plain_text,'html.parser')\n",
    "    elements = soup.select(element)\n",
    "    return elements\n"
   ]
  },
  {
   "cell_type": "code",
   "execution_count": 15,
   "metadata": {},
   "outputs": [],
   "source": [
    "\n",
    "def spider(max_pages):\n",
    "    page=1\n",
    "    while page <max_pages:\n",
    "        url= 'https://www.skku.edu/skku/campus/skk_comm/notice0'+str(page)+'.do'\n",
    "        source_code=requests.get(url)\n",
    "        plain_text = source_code.text\n",
    "        soup = BeautifulSoup(plain_text,'html.parser')\n",
    "        for link in soup.select('body#item_body >div.sub_container > div.cont_wrap >content.jwxe_main_content> div.ko > div.notice >  div.sub_container > div.board_wrap > table.board_list > tbody > tr > td.left > a'):\n",
    "            href = url + link.get('href')\n",
    "            title = link.string\n",
    "            print(href)\n",
    "            pring(title)\n",
    "        page+=1"
   ]
  },
  {
   "cell_type": "code",
   "execution_count": 18,
   "metadata": {},
   "outputs": [],
   "source": []
  },
  {
   "cell_type": "code",
   "execution_count": null,
   "metadata": {},
   "outputs": [],
   "source": []
  },
  {
   "cell_type": "code",
   "execution_count": 4,
   "metadata": {},
   "outputs": [
    {
     "name": "stdout",
     "output_type": "stream",
     "text": [
      "성균관대 홈페이지 공지사항\n",
      "1\n",
      "동아시아학술원 인문한국(HK+)연구소 공동학술대회(19.03.15.)\n",
      " https://www.skku.edu/skku/campus/skk_comm/notice01.do?mode=view&articleNo=70879&article.offset=0&articleLimit=10\n",
      "2\n",
      "성균관대학교 산학협력단 (창업보육) 대체근무자 채용 공고문\n",
      " https://www.skku.edu/skku/campus/skk_comm/notice01.do?mode=view&articleNo=70878&article.offset=0&articleLimit=10\n",
      "3\n",
      "[공학교육혁신센터] 미래 신산업 창의융합 캠프 안내\n",
      " https://www.skku.edu/skku/campus/skk_comm/notice01.do?mode=view&articleNo=70874&article.offset=0&articleLimit=10\n",
      "4\n",
      "[학생인재개발팀] 2019년 3월 첫째주 채용설명회/리크루팅 일정 안내\n",
      " https://www.skku.edu/skku/campus/skk_comm/notice01.do?mode=view&articleNo=70811&article.offset=0&articleLimit=10\n",
      "5\n",
      "[학생인재개발팀] 하반기 공채 대비 온라인/오프라인 입사지원서 컨설팅 안내\n",
      " https://www.skku.edu/skku/campus/skk_comm/notice01.do?mode=view&articleNo=70423&article.offset=0&articleLimit=10\n",
      "6\n",
      "SKK GSB(Graduate School of Business) 행정실 자체 행정조교 채용 안내\n",
      " https://www.skku.edu/skku/campus/skk_comm/notice01.do?mode=view&articleNo=70706&article.offset=0&articleLimit=10\n",
      "7\n",
      "[산학사업팀 LINC+] 2019년 5월 해외 현장실습 참여학생 모집\n",
      " https://www.skku.edu/skku/campus/skk_comm/notice01.do?mode=view&articleNo=70810&article.offset=0&articleLimit=10\n",
      "8\n",
      "[산학사업팀 LINC+] 성균 DX협동조합 인턴 모집\n",
      " https://www.skku.edu/skku/campus/skk_comm/notice01.do?mode=view&articleNo=70762&article.offset=0&articleLimit=10\n",
      "9\n",
      "[인사캠] 건강센터 근로장학생 모집(마감)\n",
      " https://www.skku.edu/skku/campus/skk_comm/notice01.do?mode=view&articleNo=70795&article.offset=0&articleLimit=10\n",
      "10\n",
      "자연과학캠퍼스(수원) 1398 피트니스센터 근로학생 모집\n",
      " https://www.skku.edu/skku/campus/skk_comm/notice01.do?mode=view&articleNo=70766&article.offset=0&articleLimit=10\n"
     ]
    }
   ],
   "source": [
    "# 성균관대 홈페이지 공지사항 첫번째 \n",
    "url = \"https://www.skku.edu/skku/campus/skk_comm/notice01.do\"\n",
    "element = ' tr > td.left > a' # 제목\n",
    "titleSkkuNotice = CrawlWeb(url,element)\n",
    "#newNotice = soup.findAll(\"a\",{\"articleLimit\":\"10\"})\n",
    "#mydivs = soup.findAll(\"div\", {\"class\": \"stylelistrow\"})\n",
    "#print(newNotice)\n",
    "index=0;\n",
    "print(\"성균관대 홈페이지 공지사항\")\n",
    "for title in titleSkkuNotice:\n",
    "    index +=1\n",
    "    titleT = title.text\n",
    "    href = title.get('href')\n",
    "    titleTS = titleT.strip()\n",
    "    print(index)\n",
    "    print( \"\" + titleTS)\n",
    "    print(\" \" +url + href)\n",
    "    #다운로드 파일 받기 ( 미완 )\n",
    "\n",
    "\n",
    "    \n"
   ]
  },
  {
   "cell_type": "code",
   "execution_count": 5,
   "metadata": {
    "scrolled": true
   },
   "outputs": [
    {
     "name": "stdout",
     "output_type": "stream",
     "text": [
      "성균관대학교 산학협력단 (창업보육) 입사지원서.hwp\n",
      "https://www.skku.edu/skku/campus/skk_comm/notice01.do?mode=download&articleNo=70878&attachNo=55433\n",
      "붙임2. 세부일정.hwp\n",
      "https://www.skku.edu/skku/campus/skk_comm/notice01.do?mode=download&articleNo=70874&attachNo=55427\n",
      "붙임 1. 2019 창의융합캠프_참가신청서.hwp\n",
      "https://www.skku.edu/skku/campus/skk_comm/notice01.do?mode=download&articleNo=70874&attachNo=55428\n",
      "[인사캠] 2019년 3월 1주차 성균관대학교 취업행사 일정 안내.jpg\n",
      "https://www.skku.edu/skku/campus/skk_comm/notice01.do?mode=download&articleNo=70811&attachNo=55380\n",
      "[자과캠] 2019년 3월 1주차 성균관대학교 취업행사 일정 안내(리크루팅).jpg\n",
      "https://www.skku.edu/skku/campus/skk_comm/notice01.do?mode=download&articleNo=70811&attachNo=55381\n",
      "[자과캠] 2019년 3월 1주차 성균관대학교 취업행사 일정 안내(채용설명회).jpg\n",
      "https://www.skku.edu/skku/campus/skk_comm/notice01.do?mode=download&articleNo=70811&attachNo=55382\n",
      "Announcement_Leica_1_2018_FINAL.pdf\n",
      "https://www.skku.edu/skku/campus/skk_comm/notice01.do?mode=download&articleNo=70810&attachNo=55378\n",
      "Co-op_Program_Application(영문_지원서).doc\n",
      "https://www.skku.edu/skku/campus/skk_comm/notice01.do?mode=download&articleNo=70810&attachNo=55379\n",
      "성균DX협동조합_운영계획서.pdf\n",
      "https://www.skku.edu/skku/campus/skk_comm/notice01.do?mode=download&articleNo=70762&attachNo=55348\n"
     ]
    }
   ],
   "source": [
    "url = \"https://www.skku.edu/skku/campus/skk_comm/notice01.do\"\n",
    "Down_element = \" a.ellipsis  \"\n",
    "file_SkkuNotice = CrawlWeb(url,Down_element)\n",
    "for link in file_SkkuNotice:\n",
    "    filetitle = link.text.strip()\n",
    "    filelink = url + link.get('href')\n",
    "    print(filetitle)\n",
    "    print(filelink)"
   ]
  },
  {
   "cell_type": "code",
   "execution_count": 4,
   "metadata": {},
   "outputs": [
    {
     "name": "stdout",
     "output_type": "stream",
     "text": [
      "반도체시스템공학과 홈페이지 공지사항\n",
      "1\t※반도체시스템공학과 학과 지침 안내\n",
      "https://shb.skku.edu/semicon/menu_5/comm_04.jsp?mode=view&article_no=3255895&board_wrapper=%2Fsemicon%2Fmenu_5%2Fcomm_04.jsp&pager.offset=0&board_no=1789\n",
      "\n",
      "2\t2019 시스템관리실 모집 안내\n",
      "https://shb.skku.edu/semicon/menu_5/comm_04.jsp?mode=view&article_no=3362998&board_wrapper=%2Fsemicon%2Fmenu_5%2Fcomm_04.jsp&pager.offset=0&board_no=1789\n",
      "\n",
      "3\t프로그래밍언어(SWE3006), 빅데이터분석방법론(SWE304..\n",
      "https://shb.skku.edu/semicon/menu_5/comm_04.jsp?mode=view&article_no=3362884&board_wrapper=%2Fsemicon%2Fmenu_5%2Fcomm_04.jsp&pager.offset=0&board_no=1789\n",
      "\n",
      "4\t2019 동아리 신청 안내\n",
      "https://shb.skku.edu/semicon/menu_5/comm_04.jsp?mode=view&article_no=3362472&board_wrapper=%2Fsemicon%2Fmenu_5%2Fcomm_04.jsp&pager.offset=0&board_no=1789\n",
      "\t2019 반도체시스템공학과 동아리 지원신청서.docx 다운로드\n",
      "파일링크 ↓\n",
      "\thttps://shb.skku.edu/_custom/skk/_common/board/download.jsp?attach_no=47507\n",
      "\n",
      "5\t19-1 컴퓨터시스템개론 수업 공지\n",
      "https://shb.skku.edu/semicon/menu_5/comm_04.jsp?mode=view&article_no=3362249&board_wrapper=%2Fsemicon%2Fmenu_5%2Fcomm_04.jsp&pager.offset=0&board_no=1789\n",
      "\n",
      "6\t반도체 출입단말기 시스템 카드 재등록 안내\n",
      "https://shb.skku.edu/semicon/menu_5/comm_04.jsp?mode=view&article_no=3362223&board_wrapper=%2Fsemicon%2Fmenu_5%2Fcomm_04.jsp&pager.offset=0&board_no=1789\n",
      "\n",
      "7\t이칠기 교수님 퇴임식\n",
      "https://shb.skku.edu/semicon/menu_5/comm_04.jsp?mode=view&article_no=3361356&board_wrapper=%2Fsemicon%2Fmenu_5%2Fcomm_04.jsp&pager.offset=0&board_no=1789\n",
      "\n",
      "8\t2019-1 삼성 계약 체결 서류 작성 안내\n",
      "https://shb.skku.edu/semicon/menu_5/comm_04.jsp?mode=view&article_no=3361280&board_wrapper=%2Fsemicon%2Fmenu_5%2Fcomm_04.jsp&pager.offset=0&board_no=1789\n",
      "\t개인정보 수집 이용 동의서_新.pdf 다운로드\n",
      "파일링크 ↓\n",
      "\thttps://shb.skku.edu/_custom/skk/_common/board/download.jsp?attach_no=47455\n",
      "\t삼성전자대여장학생구비서류체크리스트_201903.hwp 다운로드\n",
      "파일링크 ↓\n",
      "\thttps://shb.skku.edu/_custom/skk/_common/board/download.jsp?attach_no=47429\n",
      "\n",
      "9\t19-1 여학생 휴게실 근로학생 모집(~2.27(수)10시까지\n",
      "https://shb.skku.edu/semicon/menu_5/comm_04.jsp?mode=view&article_no=3361032&board_wrapper=%2Fsemicon%2Fmenu_5%2Fcomm_04.jsp&pager.offset=0&board_no=1789\n",
      "\t반도체관_여학생 휴게실 근로장학생 지원서.hwp 다운로드\n",
      "파일링크 ↓\n",
      "\thttps://shb.skku.edu/_custom/skk/_common/board/download.jsp?attach_no=47366\n",
      "\n",
      "10\t19-1 졸업예정자 직권수강신청 안내\n",
      "https://shb.skku.edu/semicon/menu_5/comm_04.jsp?mode=view&article_no=3359488&board_wrapper=%2Fsemicon%2Fmenu_5%2Fcomm_04.jsp&pager.offset=0&board_no=1789\n",
      "\n",
      "11\t19- 1 수강신청 증원절차 및 일정 안내\n",
      "https://shb.skku.edu/semicon/menu_5/comm_04.jsp?mode=view&article_no=3359487&board_wrapper=%2Fsemicon%2Fmenu_5%2Fcomm_04.jsp&pager.offset=0&board_no=1789\n",
      "\n"
     ]
    }
   ],
   "source": [
    "# 반도체 시스템공학과 공지사항 리스트\n",
    "url = \"https://shb.skku.edu/semicon/menu_5/comm_04.jsp\"\n",
    "element = 'td > a ' # 제목\n",
    "titleSemiNotice =  CrawlWeb(url,element)\n",
    "\n",
    "index =0;\n",
    "print(\"반도체시스템공학과 홈페이지 공지사항\")\n",
    "for title in titleSemiNotice:\n",
    "    index += 1\n",
    "    print(str(index) + \"\\t\" + title.text.strip())\n",
    "    titleUrl = url+title.get('href')\n",
    "    print(titleUrl)\n",
    "    #print(title)\n",
    "    #파일 링크 찾기 \n",
    "    #-*- coding: utf-8 -*-\n",
    "    elem = \"ul.attach_list > li > a \"\n",
    "    files = CrawlWeb(titleUrl,elem)\n",
    "    for file in files:\n",
    "        filehref = file.get('href')\n",
    "        filename1 = file.get('title')\n",
    "        link = \"https://shb.skku.edu\" + filehref\n",
    "        print(\"\\t\" +filename1)\n",
    "        print(\"파일링크 ↓\")\n",
    "        print(\"\\t\" + link)\n",
    "    print()\n",
    "    \n",
    "    "
   ]
  },
  {
   "cell_type": "code",
   "execution_count": 1,
   "metadata": {
    "scrolled": true
   },
   "outputs": [
    {
     "ename": "NameError",
     "evalue": "name 'SemiNotice' is not defined",
     "output_type": "error",
     "traceback": [
      "\u001b[1;31m---------------------------------------------------------------------------\u001b[0m",
      "\u001b[1;31mNameError\u001b[0m                                 Traceback (most recent call last)",
      "\u001b[1;32m<ipython-input-1-cd267cd5f50f>\u001b[0m in \u001b[0;36m<module>\u001b[1;34m\u001b[0m\n\u001b[1;32m----> 1\u001b[1;33m files = SemiNotice.select(\n\u001b[0m\u001b[0;32m      2\u001b[0m         \u001b[1;34m'tr > td > img'\u001b[0m\u001b[1;33m\u001b[0m\u001b[1;33m\u001b[0m\u001b[0m\n\u001b[0;32m      3\u001b[0m     )\n\u001b[0;32m      4\u001b[0m \u001b[1;32mfor\u001b[0m \u001b[0mfile\u001b[0m \u001b[1;32min\u001b[0m \u001b[0mfiles\u001b[0m\u001b[1;33m:\u001b[0m\u001b[1;33m\u001b[0m\u001b[1;33m\u001b[0m\u001b[0m\n\u001b[0;32m      5\u001b[0m     \u001b[1;32mif\u001b[0m\u001b[1;33m(\u001b[0m\u001b[1;34m\"file\"\u001b[0m \u001b[1;32min\u001b[0m \u001b[0mfile\u001b[0m\u001b[1;33m.\u001b[0m\u001b[0mget\u001b[0m\u001b[1;33m(\u001b[0m\u001b[1;34m'src'\u001b[0m\u001b[1;33m)\u001b[0m\u001b[1;33m)\u001b[0m\u001b[1;33m:\u001b[0m\u001b[1;33m\u001b[0m\u001b[1;33m\u001b[0m\u001b[0m\n",
      "\u001b[1;31mNameError\u001b[0m: name 'SemiNotice' is not defined"
     ]
    }
   ],
   "source": [
    "files = SemiNotice.select(\n",
    "        'tr > td > img'\n",
    "    )\n",
    "for file in files:\n",
    "    if(\"file\" in file.get('src')):\n",
    "        filename = file.get('alt')\n",
    "        print(filename)\n",
    "       \n",
    "        \n",
    "    "
   ]
  },
  {
   "cell_type": "code",
   "execution_count": null,
   "metadata": {},
   "outputs": [],
   "source": [
    "#https://shb.skku.edu/_custom/skk/_common/board/download.jsp?attach_no=47157"
   ]
  },
  {
   "cell_type": "code",
   "execution_count": null,
   "metadata": {},
   "outputs": [],
   "source": []
  }
 ],
 "metadata": {
  "kernelspec": {
   "display_name": "Python 3",
   "language": "python",
   "name": "python3"
  },
  "language_info": {
   "codemirror_mode": {
    "name": "ipython",
    "version": 3
   },
   "file_extension": ".py",
   "mimetype": "text/x-python",
   "name": "python",
   "nbconvert_exporter": "python",
   "pygments_lexer": "ipython3",
   "version": "3.7.1"
  }
 },
 "nbformat": 4,
 "nbformat_minor": 2
}
