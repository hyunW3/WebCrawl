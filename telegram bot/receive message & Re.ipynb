{
 "cells": [
  {
   "cell_type": "code",
   "execution_count": null,
   "metadata": {},
   "outputs": [],
   "source": []
  },
  {
   "cell_type": "code",
   "execution_count": null,
   "metadata": {},
   "outputs": [],
   "source": [
    "#!/usr/bin/env python\n",
    "# encoding=utf-8\n",
    "#http://mcchae.egloos.com/11263778\n",
    "token = \"704098129:AAFzYmlGwAqr87KIJDrIonLX_K4mvmA_Bag\"\n",
    "from telepot import Bot, glance\n",
    "from telepot.loop import MessageLoop\n",
    "from time import sleep\n",
    "import pprint\n",
    "\n",
    "\n",
    "\n",
    "################################################################################\n",
    "def handle(msg):\n",
    "    pprint(msg)\n",
    "    content_type, chat_type, chat_id = glance(msg)\n",
    "    print(content_type, chat_type, chat_id)\n",
    "    if content_type == 'text':\n",
    "        bot.sendMessage(chat_id, 'Re: %s' % msg['text'])\n",
    "\n",
    "################################################################################\n",
    "bot = Bot(token)\n",
    "\n",
    "me = bot.getMe()\n",
    "pprint(me)\n",
    "MessageLoop(bot, handle).run_as_thread()\n",
    "print ('Listening ...')\n",
    "\n",
    "# Keep the program running.\n",
    "while True:\n",
    "    sleep(10)"
   ]
  },
  {
   "cell_type": "code",
   "execution_count": null,
   "metadata": {},
   "outputs": [],
   "source": []
  },
  {
   "cell_type": "code",
   "execution_count": null,
   "metadata": {},
   "outputs": [],
   "source": []
  }
 ],
 "metadata": {
  "kernelspec": {
   "display_name": "Python 3",
   "language": "python",
   "name": "python3"
  },
  "language_info": {
   "codemirror_mode": {
    "name": "ipython",
    "version": 3
   },
   "file_extension": ".py",
   "mimetype": "text/x-python",
   "name": "python",
   "nbconvert_exporter": "python",
   "pygments_lexer": "ipython3",
   "version": "3.7.1"
  }
 },
 "nbformat": 4,
 "nbformat_minor": 2
}
