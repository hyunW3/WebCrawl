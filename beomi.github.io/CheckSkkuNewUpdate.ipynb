{
 "cells": [
  {
   "cell_type": "code",
   "execution_count": 4,
   "metadata": {},
   "outputs": [],
   "source": [
    "import requests\n",
    "from bs4 import BeautifulSoup\n",
    "import os\n",
    "import telepot\n",
    "token = \"704098129:AAFzYmlGwAqr87KIJDrIonLX_K4mvmA_Bag\"\n",
    "\n",
    "BASE_DIR = os.path.dirname(os.path.abspath(\"CheckNewUpdate.py\"))"
   ]
  },
  {
   "cell_type": "code",
   "execution_count": 2,
   "metadata": {},
   "outputs": [],
   "source": [
    "#-*- coding: utf-8 -*-\n",
    "def CrawlWeb(url,element):\n",
    "    source_code=requests.get(url)\n",
    "    source_code.encoding = 'utf-8'\n",
    "    plain_text = source_code.text\n",
    "    soup = BeautifulSoup(plain_text,'html.parser')\n",
    "    elements = soup.select(element)\n",
    "    return elements\n",
    "\n",
    "bot = telepot.Bot(token)\n",
    "#print(bot.getMe())\n",
    "\n",
    "# python-telegram-bot\n",
    "#https://github.com/python-telegram-bot/python-telegram-bot\n",
    "#chat_id = bot.getUpdates()[offset=].message.chat.id  \n",
    "chat_id = bot.getUpdates()[-1]['message']['from']['id']"
   ]
  },
  {
   "cell_type": "code",
   "execution_count": 11,
   "metadata": {
    "scrolled": true
   },
   "outputs": [
    {
     "ename": "ValueError",
     "evalue": "must have exactly one of create/read/write/append mode",
     "output_type": "error",
     "traceback": [
      "\u001b[1;31m---------------------------------------------------------------------------\u001b[0m",
      "\u001b[1;31mValueError\u001b[0m                                Traceback (most recent call last)",
      "\u001b[1;32m<ipython-input-11-f36d07de9613>\u001b[0m in \u001b[0;36m<module>\u001b[1;34m\u001b[0m\n\u001b[0;32m      4\u001b[0m \u001b[0mtitle\u001b[0m \u001b[1;33m=\u001b[0m \u001b[0mtitleSkkuNotice\u001b[0m\u001b[1;33m[\u001b[0m\u001b[1;36m0\u001b[0m\u001b[1;33m]\u001b[0m\u001b[1;33m.\u001b[0m\u001b[0mtext\u001b[0m\u001b[1;33m.\u001b[0m\u001b[0mstrip\u001b[0m\u001b[1;33m(\u001b[0m\u001b[1;33m)\u001b[0m\u001b[1;33m\u001b[0m\u001b[1;33m\u001b[0m\u001b[0m\n\u001b[0;32m      5\u001b[0m \u001b[1;33m\u001b[0m\u001b[0m\n\u001b[1;32m----> 6\u001b[1;33m \u001b[1;32mwith\u001b[0m \u001b[0mopen\u001b[0m\u001b[1;33m(\u001b[0m\u001b[0mos\u001b[0m\u001b[1;33m.\u001b[0m\u001b[0mpath\u001b[0m\u001b[1;33m.\u001b[0m\u001b[0mjoin\u001b[0m\u001b[1;33m(\u001b[0m\u001b[0mBASE_DIR\u001b[0m\u001b[1;33m,\u001b[0m \u001b[1;34m'latest.txt'\u001b[0m\u001b[1;33m)\u001b[0m\u001b[1;33m,\u001b[0m \u001b[1;34m'rw+'\u001b[0m\u001b[1;33m)\u001b[0m \u001b[1;32mas\u001b[0m \u001b[0mf_read\u001b[0m\u001b[1;33m:\u001b[0m\u001b[1;33m\u001b[0m\u001b[1;33m\u001b[0m\u001b[0m\n\u001b[0m\u001b[0;32m      7\u001b[0m     \u001b[0mbefore\u001b[0m \u001b[1;33m=\u001b[0m \u001b[0mf_read\u001b[0m\u001b[1;33m.\u001b[0m\u001b[0mreadline\u001b[0m\u001b[1;33m(\u001b[0m\u001b[1;33m)\u001b[0m\u001b[1;33m\u001b[0m\u001b[1;33m\u001b[0m\u001b[0m\n\u001b[0;32m      8\u001b[0m     \u001b[1;32mif\u001b[0m \u001b[0mbefore\u001b[0m \u001b[1;33m!=\u001b[0m \u001b[0mtitle\u001b[0m\u001b[1;33m:\u001b[0m\u001b[1;33m\u001b[0m\u001b[1;33m\u001b[0m\u001b[0m\n",
      "\u001b[1;31mValueError\u001b[0m: must have exactly one of create/read/write/append mode"
     ]
    }
   ],
   "source": [
    "url = \"https://www.skku.edu/skku/campus/skk_comm/notice01.do\"\n",
    "element = ' tr > td.left > a' # 제목\n",
    "titleSkkuNotice = CrawlWeb(url,element)\n",
    "title = titleSkkuNotice[0].text.strip()\n",
    "\n",
    "with open(os.path.join(BASE_DIR, 'latest.txt'), 'r+') as f_read:\n",
    "    before = f_read.readline()\n",
    "    if before != title:\n",
    "        # 같은 경우는 에러없이 넘기고 다른경우에만 메세지 보내느 로직\n",
    "        bot.sendMessage(chat_id=chat_id, text='새 글이 올라왔어요!\\n'+title)\n",
    "    else:\n",
    "        bot.sendMessage(chat_id=chat_id, text='새 글이 없어요 ㅠㅠ')\n",
    "    f_read.close()\n",
    "\n",
    "with open(os.path.join(BASE_DIR, 'latest.txt'), 'w+') as f_write:\n",
    "    f_write.write(title)\n",
    "    f_write.close()\n",
    "\n",
    "    \n",
    "    "
   ]
  },
  {
   "cell_type": "code",
   "execution_count": 72,
   "metadata": {},
   "outputs": [
    {
     "name": "stdout",
     "output_type": "stream",
     "text": [
      "학교 공지 알림\n",
      "1 : 아이돌 팬덤 관련 인터뷰 대상자 모집 (마감)\n",
      "2 : [지원마감.3월10일(일)] 학점(절대평가)인정 '금토학교' SeTA2기 모집(소셜 앙트레프레너십 팀 아카데미) - \"팀으로 세상을 더 가치있게\"\n",
      "3 : 2019년 성균관대학교 수자원학과 SWAT 연구실 행정직원 모집\n",
      "4 : [학생인재개발팀] 학생성공을 위한 진로 및 취업에 대한 재학생 수요조사\n",
      "5 : 성균인성교육센터 행정조교 모집\n",
      "6 : 2019학년도 1학기 금연상담교실 안내\n",
      "7 : 3월 학생 건강검진 안내\n",
      "8 : [인사캠] 교육지원팀 근로장학생 선발 안내\n",
      "9 : [학생성공센터] 학생성공센터(인사캠 국제관 1층) 오픈 안내\n",
      "10 : [S-HERO] 실전문제 해결형 S-HERO 공학인재 양성사업단 3차년도 사업 설명회 개최\n",
      "\n"
     ]
    },
    {
     "data": {
      "text/plain": [
       "{'message_id': 102,\n",
       " 'from': {'id': 704098129,\n",
       "  'is_bot': True,\n",
       "  'first_name': 'BAEBAEBAE_Bot',\n",
       "  'username': 'BaeBaeTest_bot'},\n",
       " 'chat': {'id': 362927551,\n",
       "  'first_name': 'HyunWoong',\n",
       "  'last_name': 'Bae',\n",
       "  'username': 'hwbae0326',\n",
       "  'type': 'private'},\n",
       " 'date': 1552138209,\n",
       " 'text': '학교 공지 알림\\n1 : 아이돌 팬덤 관련 인터뷰 대상자 모집 (마감)\\n2 : [지원마감.3월10일(일)] 학점(절대평가)인정 \\'금토학교\\' SeTA2기 모집(소셜 앙트레프레너십 팀 아카데미) - \"팀으로 세상을 더 가치있게\"\\n3 : 2019년 성균관대학교 수자원학과 SWAT 연구실 행정직원 모집\\n4 : [학생인재개발팀] 학생성공을 위한 진로 및 취업에 대한 재학생 수요조사\\n5 : 성균인성교육센터 행정조교 모집\\n6 : 2019학년도 1학기 금연상담교실 안내\\n7 : 3월 학생 건강검진 안내\\n8 : [인사캠] 교육지원팀 근로장학생 선발 안내\\n9 : [학생성공센터] 학생성공센터(인사캠 국제관 1층) 오픈 안내\\n10 : [S-HERO] 실전문제 해결형 S-HERO 공학인재 양성사업단 3차년도 사업 설명회 개최'}"
      ]
     },
     "execution_count": 72,
     "metadata": {},
     "output_type": "execute_result"
    }
   ],
   "source": []
  },
  {
   "cell_type": "code",
   "execution_count": 26,
   "metadata": {},
   "outputs": [],
   "source": [
    "def Check(chat_id):\n",
    "    if os.path.isfile(BASE_DIR +'/latest.txt') == True:\n",
    "        with open(os.path.join(BASE_DIR, 'latest.txt'), 'r+') as f_read:\n",
    "            before = f_read.readline()\n",
    "            f_read.close()\n",
    "            if before != title:\n",
    "                # 같은 경우는 에러없이 넘기고 다른경우에만 메세지 보내는 로직\n",
    "                bot.sendMessage(chat_id=chat_id, text='새 글이 올라왔어요!\\n'+title)\n",
    "                \n",
    "                # 파일에 기록\n",
    "                with open(os.path.join(BASE_DIR, 'latest.txt'), 'w+') as f_write:\n",
    "                    f_write.write(title)\n",
    "            else:\n",
    "                bot.sendMessage(chat_id=chat_id, text='새 글이 없어요 ㅠㅠ')\n",
    "            \n",
    "        \n",
    "    else:      \n",
    "        # 파일이 없는경우에 \n",
    "        bot.sendMessage(chat_id=chat_id, text='새 글이 올라왔어요!\\n'+title)\n",
    "        with open(os.path.join(BASE_DIR, 'latest.txt'), 'w+') as f_write:\n",
    "            f_write.write(title)\n",
    "            f_write.close()\n",
    "            \n",
    "\n",
    "\n",
    "Check(chat_id)"
   ]
  },
  {
   "cell_type": "code",
   "execution_count": 25,
   "metadata": {},
   "outputs": [
    {
     "name": "stdout",
     "output_type": "stream",
     "text": [
      "C:\\Users\\Hyun-R530\\Jupyter Notebook\\WebCrawl\\beomi.github.io/latest.txt\n"
     ]
    }
   ],
   "source": [
    "#print(BASE_DIR + '/latest.txt')"
   ]
  },
  {
   "cell_type": "code",
   "execution_count": null,
   "metadata": {},
   "outputs": [],
   "source": []
  }
 ],
 "metadata": {
  "kernelspec": {
   "display_name": "Python 3",
   "language": "python",
   "name": "python3"
  },
  "language_info": {
   "codemirror_mode": {
    "name": "ipython",
    "version": 3
   },
   "file_extension": ".py",
   "mimetype": "text/x-python",
   "name": "python",
   "nbconvert_exporter": "python",
   "pygments_lexer": "ipython3",
   "version": "3.7.1"
  }
 },
 "nbformat": 4,
 "nbformat_minor": 2
}
